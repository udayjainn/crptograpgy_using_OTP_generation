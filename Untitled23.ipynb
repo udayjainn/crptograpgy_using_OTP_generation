{
  "nbformat": 4,
  "nbformat_minor": 0,
  "metadata": {
    "colab": {
      "provenance": []
    },
    "kernelspec": {
      "name": "python3",
      "display_name": "Python 3"
    },
    "language_info": {
      "name": "python"
    }
  },
  "cells": [
    {
      "cell_type": "code",
      "execution_count": 1,
      "metadata": {
        "colab": {
          "base_uri": "https://localhost:8080/",
          "height": 0
        },
        "id": "txSQmMC4LYAC",
        "outputId": "52801faf-837e-46fb-c73f-ff19cab0a4c0"
      },
      "outputs": [
        {
          "output_type": "stream",
          "name": "stdout",
          "text": [
            "Secret Key! d7fde7a9875705ef06d4421537aee5396a0c3cfd\n",
            "Secret key! b957c7f9e75ae1ea00f2a065ee6fb427bd4b85be\n",
            "Secret Key, c2e1161a2ea1e44b3de90a3dbe8ba7999a9d9613\n",
            "Secret key, be26635e9fc65a39cea46bf4a8f6565b8401fedb\n",
            "secrert key  26b7025cef3039a136fc4c55c04abca950ae1b31\n",
            "secret kEy* 5e6051512f99c6393d43a6167a3b49be0818fe78\n",
            "secret key. 8b644ba38d3d24efbafab5ab17a6c11b1bff6cc4\n"
          ]
        }
      ],
      "source": [
        "\n",
        "class SHA1():\n",
        "    '''SHA1 Class'''\n",
        "\n",
        "    def __init__(self):\n",
        "        '''Computes SHA1 hashed value of given string'''\n",
        "        self.f_funcs = [self.f1, self.f2, self.f3, self.f4]\n",
        "        K = ['5A827999', '6ED9EBA1', '8F1BBCDC', 'CA62C1D6']\n",
        "        self.K = list(map(self.hex2bin, K))\n",
        "\n",
        "\n",
        "    def __str__(self):\n",
        "        return 'SHA1 Computer'\n",
        "\n",
        "\n",
        "    def add_mod(self, a, b):\n",
        "        '''Addition modulo 2**32, returns the least 32 bytes of addition result'''\n",
        "        added = '{:032b}'.format(int(a, 2) + int(b, 2))\n",
        "        return added[-32:]\n",
        "\n",
        "\n",
        "    def ascii2bin(self, string):\n",
        "        '''Convert ascii string to bitstring'''\n",
        "        return ''.join('{:08b}'.format(ord(char)) for char in string)\n",
        "\n",
        "\n",
        "    def hex2bin(self, hx):\n",
        "        '''Convert hex string to bitstring'''\n",
        "        return ''.join('{:04b}'.format(int(h, 16)) for h in hx)\n",
        "\n",
        "\n",
        "    def bin2hex(self, bn):\n",
        "        '''Convert bitstring to hex string'''\n",
        "        return ''.join('{:0x}'.format(int(bn[i:i + 4], 2)) for i in range(0, len(bn), 4))\n",
        "\n",
        "\n",
        "    def pad(self, msg):\n",
        "        '''Pad message with '1' followed by '0's'''\n",
        "        bin_msg = self.ascii2bin(msg)\n",
        "        l = len(bin_msg)\n",
        "        # k = 512 - 64 - 1 - l\n",
        "        k = 448 - (l + 1) % 512\n",
        "        # padded output should be 512 bits\n",
        "        padded = bin_msg + '1' + ('0' * k) + '{:064b}'.format(l)\n",
        "        return padded\n",
        "\n",
        "\n",
        "    def _split(self, message, size):\n",
        "        '''Split data into blocks of given size'''\n",
        "        return [message[i:i+size] for i in range(0, len(message), size)]\n",
        "\n",
        "\n",
        "    def rol(self, word, shift):\n",
        "        '''Rotate left word with given shift'''\n",
        "        assert len(word) == 32\n",
        "        return word[shift:] + word[:shift]\n",
        "\n",
        "\n",
        "    def xor_2(self, a, b):\n",
        "        '''Compute XOR value of given two binary strings'''\n",
        "        return ''.join(['0' if x == y else '1' for x, y in zip(a, b)])\n",
        "\n",
        "\n",
        "    def xor(self, *words):\n",
        "        '''Compute XOR of multiple binary words'''\n",
        "        first, *words = words\n",
        "        res = first\n",
        "        for word in words:\n",
        "            res = self.xor_2(res, word)\n",
        "        assert len(res) == len(first)\n",
        "        return res\n",
        "\n",
        "\n",
        "    def message_schedule(self, msg):\n",
        "        ''' preprocess messag and return message schedule of given message'''\n",
        "\n",
        "        # dividing the padded message\n",
        "        msg_blocks = [msg[i:i + 32] for i in range(0, len(msg), 32)]\n",
        "        assert len(msg_blocks) == 16\n",
        "\n",
        "        # expanding message blocks\n",
        "        schedule = []\n",
        "        for j in range(0, 16):\n",
        "            schedule.append(msg_blocks[j])\n",
        "\n",
        "        for j in range(16, 80):\n",
        "            word = self.xor(schedule[j - 16], schedule[j - 14], schedule[j - 8], schedule[j - 3])\n",
        "            word = self.rol(word, 1)\n",
        "            schedule.append(word)\n",
        "\n",
        "        schedule = [schedule[i:i + 20] for i in range(0, len(schedule), 20)]\n",
        "        assert len(schedule) == 4 and len(schedule[0]) == 20 and len(schedule[0][0]) == 32\n",
        "        return schedule\n",
        "\n",
        "\n",
        "    def f1(self, B, C, D):\n",
        "        ''' f1 function used in stage1 (0 .. 19) rounds'''\n",
        "        B = int(B, 2)\n",
        "        C = int(C, 2)\n",
        "        D = int(D, 2)\n",
        "        # using alternate to avoid negation\n",
        "        value = D ^ (B & (C ^ D))\n",
        "        b_value = '{:032b}'.format(value)\n",
        "        return b_value\n",
        "\n",
        "\n",
        "    def f2(self, B, C, D):\n",
        "        ''' f2 function used in stage2 (20 .. 39) rounds'''\n",
        "        return self.xor(B, C, D)\n",
        "\n",
        "\n",
        "    def f3(self, B, C, D):\n",
        "        ''' f3 function used in stage3 (40 .. 59) rounds'''\n",
        "        B = int(B, 2)\n",
        "        C = int(C, 2)\n",
        "        D = int(D, 2)\n",
        "        value = (B & C) | (B & D) | (C & D)\n",
        "        return '{:32b}'.format(value)\n",
        "\n",
        "\n",
        "    def f4(self, B, C, D):\n",
        "        ''' f4 function used in stage4 (60 .. 79) rounds'''\n",
        "        return self.xor(B, C, D)\n",
        "\n",
        "\n",
        "    def _round(self, data, t, msg):\n",
        "        A, B, C, D, E = data\n",
        "        assert len(A) == len(B) == len(C) == len(D) == len(E) == 32\n",
        "        ft = self.f_funcs[t](B, C, D)\n",
        "        assert len(ft) == 32\n",
        "\n",
        "        add1 = self.add_mod(E, ft)\n",
        "        add2 = self.add_mod(add1, self.rol(A, 5))\n",
        "        add3 = self.add_mod(add2, msg)\n",
        "        add4 = self.add_mod(add3, self.K[t])\n",
        "\n",
        "        return [add4, A, self.rol(B, 30), C, D]\n",
        "\n",
        "\n",
        "    def compression_function(self, message, data):\n",
        "        '''Compression function with 80 rounds as in Merkle-Damgård construction'''\n",
        "        initial = data\n",
        "        schedule = self.message_schedule(message)\n",
        "        for t in range(4):\n",
        "            for j in range(20):\n",
        "                data = self._round(data, t, schedule[t][j])\n",
        "\n",
        "        data = list(map(self.add_mod, data, initial))\n",
        "        return data\n",
        "\n",
        "\n",
        "    def compute_hash(self, message):\n",
        "        '''Compute SHA1 hash of given message'''\n",
        "        padded = self.pad(message)\n",
        "        message_blocks = self._split(padded, 512)\n",
        "\n",
        "        # initial values of H0\n",
        "        # A 160-bit buffer is used to hold the initial hash value for the first iteration.\n",
        "        A = '67452301'\n",
        "        B = 'EFCDAB89'\n",
        "        C = '98BADCFE'\n",
        "        D = '10325476'\n",
        "        E = 'C3D2E1F0'\n",
        "\n",
        "        initial_values = [A, B, C, D, E]\n",
        "        # converting hex to bitstring\n",
        "        initial_data = list(map(self.hex2bin, initial_values))\n",
        "        data = initial_data\n",
        "\n",
        "        for block in message_blocks:\n",
        "            # computing hash of each block as in CBC mode\n",
        "            data = self.compression_function(block, data)\n",
        "\n",
        "        hashed = ''.join(data)\n",
        "        hex_hash = self.bin2hex(hashed)\n",
        "        return hex_hash\n",
        "\n",
        "if __name__ == '__main__':\n",
        "    hasher = SHA1()                 # initializing a SHA1 object\n",
        "    # test words\n",
        "    hash_these = [ 'Secret Key!',\n",
        "                   'Secret key!',\n",
        "                   'Secret Key,',\n",
        "                   'Secret key,',\n",
        "                   'secrert key ',\n",
        "                   'secret kEy*',\n",
        "                   'secret key.']\n",
        "\n",
        "    for word in hash_these:\n",
        "        hashed = hasher.compute_hash(word)\n",
        "        print(word, hashed)"
      ]
    },
    {
      "cell_type": "code",
      "source": [
        "\n",
        "class HMAC():\n",
        "    def __init__(self, hasher, key):\n",
        "        ''' HMAC comstruction class'''\n",
        "        self.hasher = hasher()\n",
        "        self.key = key\n",
        "        self.bin_key = self.ascii2bin(self.key)\n",
        "        self.hash_inp_length = 512\n",
        "        self.ipad = '00110110'*64\n",
        "        self.opad = '01011100'*64\n",
        "        self.key_ = '0'*(self.hash_inp_length - len(self.bin_key)) + self.bin_key\n",
        "\n",
        "\n",
        "    def ascii2bin(self, string):\n",
        "        '''Convert ascii string to bitstring'''\n",
        "        return ''.join('{:08b}'.format(ord(char)) for char in string)\n",
        "\n",
        "    def bin2ascii(self, bn):\n",
        "        '''Converts binary bitstring to ascii'''\n",
        "        return ''.join([chr(int(bn[i:i+8], 2)) for i in range(0, len(bn), 8)])\n",
        "\n",
        "    def hex2bin(self, hx):\n",
        "        '''Converts hex string to binary string'''\n",
        "        return ''.join('{:04b}'.format(int(h, 16)) for h in hx)\n",
        "\n",
        "    def xor_2(self, a, b):\n",
        "        '''Compute XOR value of given two binary strings'''\n",
        "        return ''.join(['0' if x == y else '1' for x, y in zip(a, b)])\n",
        "\n",
        "\n",
        "    def xor(self, *words):\n",
        "        '''Compute XOR of multiple binary words'''\n",
        "        first, *words = words\n",
        "        res = first\n",
        "        for word in words:\n",
        "            res = self.xor_2(res, word)\n",
        "        assert len(res) == len(first)\n",
        "        return res\n",
        "\n",
        "    def inner_hash(self):\n",
        "        '''Compute inner HMAC with ipad'''\n",
        "        hash_this = self.xor(self.key_, self.ipad)\n",
        "        # hash_this will be in binary\n",
        "        hash_this = self.bin2ascii(hash_this) + self.message\n",
        "        # self.hasher returns hashed output in hex\n",
        "        return self.hex2bin(self.hasher.compute_hash(hash_this))\n",
        "\n",
        "    def compute_hmac(self, message):\n",
        "        '''Compute HMAC of given message'''\n",
        "        self.message = message\n",
        "        inner_hashed = self.inner_hash()\n",
        "        hash_this = self.xor(self.key_, self.opad)\n",
        "        hash_this = self.bin2ascii(hash_this) + self.bin2ascii(inner_hashed)\n",
        "        return self.hasher.compute_hash(hash_this)\n",
        "\n",
        "\n",
        "if __name__ == '__main__':\n",
        "    hmac = HMAC(SHA1, 'secret_key')      # initializing HMAC object with hasher and password\n",
        "\n",
        "    test_these = [  'Secret key',\n",
        "                    'secret key',\n",
        "                    'secret Key',\n",
        "                    'Secret Key']\n",
        "\n",
        "    for word in test_these:\n",
        "        print(word, hmac.compute_hmac(word))"
      ],
      "metadata": {
        "colab": {
          "base_uri": "https://localhost:8080/",
          "height": 0
        },
        "id": "wVL5Q6rBLtKu",
        "outputId": "60c34736-893e-403c-b00b-a8d700fd08b3"
      },
      "execution_count": 2,
      "outputs": [
        {
          "output_type": "stream",
          "name": "stdout",
          "text": [
            "Secret key 3f81de890910424fadabf2917dcf4b48e2373c3f\n",
            "secret key 95460949701144619c23a2dd8d7b1c6ed6f2e74b\n",
            "secret Key 228189c82c705b55498e58a48d43b891a7045056\n",
            "Secret Key e93c94d082d66b442d94377f4aab171d83d9cd8a\n"
          ]
        }
      ]
    },
    {
      "cell_type": "code",
      "source": [
        "x=(hashed[-10:])"
      ],
      "metadata": {
        "id": "PmoXomMGL4Yq"
      },
      "execution_count": 3,
      "outputs": []
    },
    {
      "cell_type": "code",
      "source": [
        "test_string = x\n",
        " \n",
        "# printing original string\n",
        "print(\"The original string : \" +\n",
        "      str(test_string))\n",
        " \n",
        "# using int()\n",
        "# converting hexadecimal string to decimal\n",
        "res = int(test_string, 16)\n",
        " \n",
        "# print result\n",
        "print(\"The decimal number of hexadecimal \\\n",
        "            string : \" + str(res))"
      ],
      "metadata": {
        "colab": {
          "base_uri": "https://localhost:8080/",
          "height": 0
        },
        "id": "17q7Boz6MC2K",
        "outputId": "1f6712ca-b814-4d89-ec2c-f7a5852393d7"
      },
      "execution_count": 4,
      "outputs": [
        {
          "output_type": "stream",
          "name": "stdout",
          "text": [
            "The original string : 1b1bff6cc4\n",
            "The decimal number of hexadecimal             string : 116433841348\n"
          ]
        }
      ]
    },
    {
      "cell_type": "code",
      "source": [
        "result=res//(10**6)"
      ],
      "metadata": {
        "id": "2ZMP8p_4MKEu"
      },
      "execution_count": 5,
      "outputs": []
    },
    {
      "cell_type": "code",
      "source": [
        "print('The OTP generated is '+ str(result))"
      ],
      "metadata": {
        "colab": {
          "base_uri": "https://localhost:8080/",
          "height": 0
        },
        "id": "l9gL6NJQMQvi",
        "outputId": "ad53b87a-0961-42b1-ee49-c01e515958e2"
      },
      "execution_count": 6,
      "outputs": [
        {
          "output_type": "stream",
          "name": "stdout",
          "text": [
            "The OTP generated is 116433\n"
          ]
        }
      ]
    },
    {
      "cell_type": "code",
      "source": [],
      "metadata": {
        "id": "7wroBdNCMUXS"
      },
      "execution_count": null,
      "outputs": []
    }
  ]
}